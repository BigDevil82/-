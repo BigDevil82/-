{
  "cells": [
    {
      "cell_type": "markdown",
      "metadata": {},
      "source": [
        "# 线性回归实践\n",
        "\n",
        "在这个实践中，我们将学习如何使用PyTorch实现线性回归模型。我们将以预测混凝土强度为例，这是土木工程中的一个常见问题。\n",
        "\n",
        "## 1. 导入必要的库"
      ]
    },
    {
      "cell_type": "code",
      "execution_count": null,
      "metadata": {},
      "outputs": [],
      "source": [
        "import torch\n",
        "import torch.nn as nn\n",
        "import torch.optim as optim\n",
        "import numpy as np\n",
        "import matplotlib.pyplot as plt"
      ]
    },
    {
      "cell_type": "markdown",
      "metadata": {},
      "source": [
        "## 2. 准备数据\n",
        "\n",
        "在实际项目中，数据通常来自实验或实地测量。这里，我们将创建一些模拟数据来演示这个过程。\n",
        "\n",
        "假设我们有一组数据，表示水泥用量(kg/m³)和对应的28天抗压强度(MPa)。"
      ]
    },
    {
      "cell_type": "code",
      "execution_count": null,
      "metadata": {},
      "outputs": [],
      "source": [
        "# 生成模拟数据\n",
        "np.random.seed(42)\n",
        "cement = np.random.uniform(200, 400, 100)  # 水泥用量\n",
        "strength = 0.1 * cement + 10 + np.random.normal(0, 5, 100)  # 抗压强度\n",
        "\n",
        "# 转换为PyTorch张量\n",
        "X = torch.FloatTensor(cement.reshape(-1, 1))\n",
        "y = torch.FloatTensor(strength.reshape(-1, 1))\n",
        "\n",
        "# 划分训练集和测试集\n",
        "train_size = int(0.8 * len(X))\n",
        "X_train, X_test = X[:train_size], X[train_size:]\n",
        "y_train, y_test = y[:train_size], y[train_size:]\n",
        "\n",
        "# 可视化数据\n",
        "plt.scatter(X, y)\n",
        "plt.xlabel('cement consumption(kg/m³)')\n",
        "plt.ylabel('compression strength at 28th day (MPa)')\n",
        "plt.title('Concrete Compressive Strength wrt. Cement Consumption')\n",
        "plt.show()"
      ]
    },
    {
      "cell_type": "markdown",
      "metadata": {},
      "source": [
        "## 3. 定义模型\n",
        "\n",
        "我们将使用PyTorch的`nn.Module`来定义我们的线性回归模型。"
      ]
    },
    {
      "cell_type": "code",
      "execution_count": null,
      "metadata": {},
      "outputs": [],
      "source": [
        "class LinearRegression(nn.Module):\n",
        "    def __init__(self, input_dim, output_dim):\n",
        "        super(LinearRegression, self).__init__()\n",
        "        self.linear = nn.Linear(input_dim, output_dim)\n",
        "    \n",
        "    def forward(self, x):\n",
        "        return self.linear(x)\n",
        "\n",
        "# 实例化模型\n",
        "model = LinearRegression(1, 1)\n",
        "print(model)"
      ]
    },
    {
      "cell_type": "markdown",
      "metadata": {},
      "source": [
        "## 4. 定义损失函数和优化器\n",
        "\n",
        "对于回归问题，我们通常使用均方误差(Mean Squared Error, MSE)作为损失函数。\n",
        "优化器用于更新模型参数，这里我们使用随机梯度下降(SGD)。"
      ]
    },
    {
      "cell_type": "code",
      "execution_count": null,
      "metadata": {},
      "outputs": [],
      "source": [
        "criterion = nn.MSELoss()\n",
        "optimizer = optim.Adam(model.parameters(), lr=0.01)"
      ]
    },
    {
      "cell_type": "markdown",
      "metadata": {},
      "source": [
        "## 5. 训练模型\n",
        "\n",
        "现在我们开始训练模型。在每个epoch中，我们会:\n",
        "1. 进行前向传播得到预测值\n",
        "2. 计算损失\n",
        "3. 反向传播计算梯度\n",
        "4. 更新模型参数"
      ]
    },
    {
      "cell_type": "code",
      "execution_count": null,
      "metadata": {},
      "outputs": [],
      "source": [
        "num_epochs = 50\n",
        "losses = []\n",
        "\n",
        "for epoch in range(num_epochs):\n",
        "    # 前向传播\n",
        "    outputs = model(X_train)\n",
        "    loss = criterion(outputs, y_train)\n",
        "    \n",
        "    # 反向传播和优化\n",
        "    optimizer.zero_grad()\n",
        "    loss.backward()\n",
        "    optimizer.step()\n",
        "    \n",
        "    losses.append(loss.item())\n",
        "    \n",
        "    if (epoch+1) % 10 == 0:\n",
        "        print(f'Epoch [{epoch+1}/{num_epochs}], Loss: {loss.item():.4f}')\n",
        "\n",
        "# 绘制损失曲线\n",
        "plt.plot(losses)\n",
        "plt.xlabel('Epoch')\n",
        "plt.ylabel('Loss')\n",
        "plt.title('Training Loss')\n",
        "plt.show()"
      ]
    },
    {
      "cell_type": "markdown",
      "metadata": {},
      "source": [
        "## 6. 评估模型\n",
        "\n",
        "训练完成后，我们使用测试集来评估模型的性能。"
      ]
    },
    {
      "cell_type": "code",
      "execution_count": null,
      "metadata": {},
      "outputs": [],
      "source": [
        "model.eval()\n",
        "with torch.no_grad():\n",
        "    y_pred = model(X_test)\n",
        "    test_loss = criterion(y_pred, y_test)\n",
        "    print(f'Test Loss: {test_loss.item():.4f}')\n",
        "\n",
        "# 可视化结果\n",
        "plt.scatter(X_test, y_test, color='blue', label='Actual')\n",
        "plt.scatter(X_test, y_pred, color='red', label='Predicted')\n",
        "plt.xlabel('cement consumption (kg/m³)')\n",
        "plt.ylabel(\"compression strength at 28th day (MPa)\")\n",
        "plt.title('real vs predicted compressive strength')\n",
        "plt.legend()\n",
        "plt.show()"
      ]
    },
    {
      "cell_type": "markdown",
      "metadata": {},
      "source": [
        "## 7. 使用模型进行预测\n",
        "\n",
        "现在我们可以使用训练好的模型来预测新的数据。"
      ]
    },
    {
      "cell_type": "code",
      "execution_count": null,
      "metadata": {},
      "outputs": [],
      "source": [
        "# 假设我们要预测水泥用量为350 kg/m³时的混凝土强度\n",
        "new_cement = torch.FloatTensor([[350]])\n",
        "predicted_strength = model(new_cement).item()\n",
        "print(f'当水泥用量为350 kg/m³时,预测的28天抗压强度为: {predicted_strength:.2f} MPa')"
      ]
    },
    {
      "cell_type": "markdown",
      "metadata": {},
      "source": [
        "## 8. 总结\n",
        "\n",
        "在这个实践中，我们学习了如何使用PyTorch实现一个简单的线性回归模型来预测混凝土强度。主要步骤包括:\n",
        "\n",
        "1. 准备和可视化数据\n",
        "2. 定义模型结构\n",
        "3. 选择损失函数和优化器\n",
        "4. 训练模型\n",
        "5. 评估模型性能\n",
        "6. 使用模型进行预测\n",
        "\n",
        "这个例子展示了如何将深度学习应用于土木工程中的实际问题。通过这种方法，我们可以建立水泥用量和混凝土强度之间的关系模型，这对于混凝土配比设计和质量控制都有重要意义。\n",
        "\n",
        "在实际应用中，我们可能需要考虑更多的因素(如水灰比、骨料类型等),这时可以扩展到多元线性回归或更复杂的非线性模型。"
      ]
    }
  ],
  "metadata": {
    "kernelspec": {
      "display_name": "dl",
      "language": "python",
      "name": "python3"
    },
    "language_info": {
      "codemirror_mode": {
        "name": "ipython",
        "version": 3
      },
      "file_extension": ".py",
      "mimetype": "text/x-python",
      "name": "python",
      "nbconvert_exporter": "python",
      "pygments_lexer": "ipython3",
      "version": "3.9.12"
    }
  },
  "nbformat": 4,
  "nbformat_minor": 2
}
