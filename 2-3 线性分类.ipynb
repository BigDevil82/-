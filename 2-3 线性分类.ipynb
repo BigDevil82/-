{
  "cells": [
    {
      "cell_type": "markdown",
      "metadata": {},
      "source": [
        "# 线性分类实践\n",
        "\n",
        "在这个实践中，我们将学习如何使用PyTorch实现线性分类模型。我们将以预测混凝土裂缝是否需要修复为例，这是土木工程中的一个常见问题。\n",
        "\n",
        "## 1. 导入必要的库"
      ]
    },
    {
      "cell_type": "code",
      "execution_count": null,
      "metadata": {},
      "outputs": [],
      "source": [
        "import torch\n",
        "import torch.nn as nn\n",
        "import torch.optim as optim\n",
        "from torch.utils.data import Dataset, DataLoader\n",
        "import numpy as np\n",
        "import matplotlib.pyplot as plt\n",
        "from sklearn.model_selection import train_test_split\n",
        "from sklearn.metrics import accuracy_score, confusion_matrix\n",
        "import seaborn as sns"
      ]
    },
    {
      "cell_type": "markdown",
      "metadata": {},
      "source": [
        "## 2. 准备数据\n",
        "\n",
        "在实际项目中，数据通常来自实地检查。这里，我们将创建一些模拟数据来演示这个过程。\n",
        "\n",
        "假设我们有一组数据，包含裂缝宽度(mm)和裂缝深度(mm),以及是否需要修复(0表示不需要，1表示需要)。"
      ]
    },
    {
      "cell_type": "code",
      "execution_count": null,
      "metadata": {},
      "outputs": [],
      "source": [
        "# 生成模拟数据\n",
        "np.random.seed(42)\n",
        "n_samples = 1000\n",
        "\n",
        "width = np.random.uniform(0, 10, n_samples)\n",
        "depth = np.random.uniform(0, 20, n_samples)\n",
        "needs_repair = (width > 3) | (depth > 10)\n",
        "\n",
        "X = np.column_stack((width, depth))\n",
        "y = needs_repair.astype(int)\n",
        "\n",
        "# 划分训练集和测试集\n",
        "X_train, X_test, y_train, y_test = train_test_split(X, y, test_size=0.2, random_state=42)\n",
        "\n",
        "# 转换为PyTorch张量\n",
        "X_train = torch.FloatTensor(X_train)\n",
        "y_train = torch.LongTensor(y_train)\n",
        "X_test = torch.FloatTensor(X_test)\n",
        "y_test = torch.LongTensor(y_test)\n",
        "\n",
        "# 可视化数据\n",
        "plt.figure(figsize=(10, 8))\n",
        "plt.scatter(X[y==0, 0], X[y==0, 1], label='no need to fix', alpha=0.5)\n",
        "plt.scatter(X[y==1, 0], X[y==1, 1], label='need to fix', alpha=0.5)\n",
        "plt.xlabel('crack width (mm)')\n",
        "plt.ylabel('crack depth (mm)')\n",
        "plt.title('concrete crack dataset')\n",
        "plt.legend()\n",
        "plt.show()"
      ]
    },
    {
      "cell_type": "markdown",
      "metadata": {},
      "source": [
        "## 3. 定义数据集和数据加载器"
      ]
    },
    {
      "cell_type": "code",
      "execution_count": null,
      "metadata": {},
      "outputs": [],
      "source": [
        "class CrackDataset(Dataset):\n",
        "    def __init__(self, X, y):\n",
        "        self.X = X\n",
        "        self.y = y\n",
        "    \n",
        "    def __len__(self):\n",
        "        return len(self.y)\n",
        "    \n",
        "    def __getitem__(self, idx):\n",
        "        return self.X[idx], self.y[idx]\n",
        "\n",
        "train_dataset = CrackDataset(X_train, y_train)\n",
        "test_dataset = CrackDataset(X_test, y_test)\n",
        "\n",
        "train_loader = DataLoader(train_dataset, batch_size=32, shuffle=True)\n",
        "test_loader = DataLoader(test_dataset, batch_size=32, shuffle=False)"
      ]
    },
    {
      "cell_type": "markdown",
      "metadata": {},
      "source": [
        "## 4. 定义模型\n",
        "\n",
        "我们将使用PyTorch的`nn.Module`来定义我们的线性分类模型。"
      ]
    },
    {
      "cell_type": "code",
      "execution_count": null,
      "metadata": {},
      "outputs": [],
      "source": [
        "class LinearClassifier(nn.Module):\n",
        "    def __init__(self, input_dim):\n",
        "        super(LinearClassifier, self).__init__()\n",
        "        self.linear = nn.Linear(input_dim, 1)\n",
        "    \n",
        "    def forward(self, x):\n",
        "        return torch.sigmoid(self.linear(x))\n",
        "\n",
        "# 实例化模型\n",
        "model = LinearClassifier(2)\n",
        "print(model)"
      ]
    },
    {
      "cell_type": "markdown",
      "metadata": {},
      "source": [
        "## 5. 定义损失函数和优化器\n",
        "\n",
        "对于二分类问题，我们使用二元交叉熵(Binary Cross Entropy)作为损失函数。\n",
        "优化器我们使用Adam。"
      ]
    },
    {
      "cell_type": "code",
      "execution_count": null,
      "metadata": {},
      "outputs": [],
      "source": [
        "criterion = nn.BCELoss()\n",
        "optimizer = optim.Adam(model.parameters(), lr=0.01)"
      ]
    },
    {
      "cell_type": "markdown",
      "metadata": {},
      "source": [
        "## 6. 训练模型"
      ]
    },
    {
      "cell_type": "code",
      "execution_count": null,
      "metadata": {},
      "outputs": [],
      "source": [
        "num_epochs = 100\n",
        "losses = []\n",
        "\n",
        "for epoch in range(num_epochs):\n",
        "    model.train()\n",
        "    epoch_loss = 0\n",
        "    for X_batch, y_batch in train_loader:\n",
        "        # 前向传播\n",
        "        outputs = model(X_batch).squeeze()\n",
        "        loss = criterion(outputs, y_batch.float())\n",
        "        \n",
        "        # 反向传播和优化\n",
        "        optimizer.zero_grad()\n",
        "        loss.backward()\n",
        "        optimizer.step()\n",
        "        \n",
        "        epoch_loss += loss.item()\n",
        "    \n",
        "    avg_loss = epoch_loss / len(train_loader)\n",
        "    losses.append(avg_loss)\n",
        "    \n",
        "    if (epoch+1) % 10 == 0:\n",
        "        print(f'Epoch [{epoch+1}/{num_epochs}], Loss: {avg_loss:.4f}')\n",
        "\n",
        "# 绘制损失曲线\n",
        "plt.plot(losses)\n",
        "plt.xlabel('Epoch')\n",
        "plt.ylabel('Loss')\n",
        "plt.title('Training Loss')\n",
        "plt.show()"
      ]
    },
    {
      "cell_type": "markdown",
      "metadata": {},
      "source": [
        "## 7. 评估模型"
      ]
    },
    {
      "cell_type": "code",
      "execution_count": null,
      "metadata": {},
      "outputs": [],
      "source": [
        "model.eval()\n",
        "y_pred = []\n",
        "y_true = []\n",
        "\n",
        "with torch.no_grad():\n",
        "    for X_batch, y_batch in test_loader:\n",
        "        outputs = model(X_batch).squeeze()\n",
        "        predicted = (outputs > 0.5).float()\n",
        "        y_pred.extend(predicted.numpy())\n",
        "        y_true.extend(y_batch.numpy())\n",
        "\n",
        "accuracy = accuracy_score(y_true, y_pred)\n",
        "print(f'Test Accuracy: {accuracy:.4f}')\n",
        "\n",
        "# 绘制混淆矩阵\n",
        "cm = confusion_matrix(y_true, y_pred)\n",
        "plt.figure(figsize=(8, 6))\n",
        "sns.heatmap(cm, annot=True, fmt='d', cmap='Blues')\n",
        "plt.xlabel('Predicted')\n",
        "plt.ylabel('True')\n",
        "plt.title('Confusion Matrix')\n",
        "plt.show()"
      ]
    },
    {
      "cell_type": "markdown",
      "metadata": {},
      "source": [
        "## 8. 可视化决策边界"
      ]
    },
    {
      "cell_type": "code",
      "execution_count": null,
      "metadata": {},
      "outputs": [],
      "source": [
        "# 生成网格点\n",
        "x_min, x_max = X[:, 0].min() - 1, X[:, 0].max() + 1\n",
        "y_min, y_max = X[:, 1].min() - 1, X[:, 1].max() + 1\n",
        "xx, yy = np.meshgrid(np.arange(x_min, x_max, 0.1),\n",
        "                     np.arange(y_min, y_max, 0.1))\n",
        "\n",
        "# 预测网格点的类别\n",
        "Z = model(torch.FloatTensor(np.c_[xx.ravel(), yy.ravel()])).detach().numpy()\n",
        "Z = Z.reshape(xx.shape)\n",
        "\n",
        "# 绘制决策边界\n",
        "plt.figure(figsize=(10, 8))\n",
        "plt.contourf(xx, yy, Z, alpha=0.8, cmap=plt.cm.RdYlBu)\n",
        "plt.scatter(X[:, 0], X[:, 1], c=y, cmap=plt.cm.RdYlBu, edgecolor='black')\n",
        "plt.xlabel('crack width (mm)')\n",
        "plt.ylabel('crack depth (mm)')\n",
        "plt.title('decision boundary')\n",
        "plt.show()"
      ]
    },
    {
      "cell_type": "markdown",
      "metadata": {},
      "source": [
        "## 9. 使用模型进行预测\n",
        "\n",
        "现在我们可以使用训练好的模型来预测新的数据。"
      ]
    },
    {
      "cell_type": "code",
      "execution_count": null,
      "metadata": {},
      "outputs": [],
      "source": [
        "# 假设我们要预测一条宽度为2.5mm,深度为8mm的裂缝是否需要修复\n",
        "new_crack = torch.FloatTensor([[2.5, 8.0]])\n",
        "prediction = model(new_crack).item()\n",
        "needs_repair = 'Yes' if prediction > 0.5 else 'No'\n",
        "print(f'对于宽度为2.5mm,深度为8mm的裂缝:')\n",
        "print(f'需要修复的概率: {prediction:.2f}')\n",
        "print(f'是否需要修复: {needs_repair}')"
      ]
    },
    {
      "cell_type": "markdown",
      "metadata": {},
      "source": [
        "## 10. 总结\n",
        "\n",
        "在这个实践中，我们学习了如何使用PyTorch实现一个简单的线性分类模型来预测混凝土裂缝是否需要修复。主要步骤包括:\n",
        "\n",
        "1. 准备和可视化数据\n",
        "2. 定义数据集和数据加载器\n",
        "3. 定义模型结构\n",
        "4. 选择损失函数和优化器\n",
        "5. 训练模型\n",
        "6. 评估模型性能\n",
        "7. 可视化决策边界\n",
        "8. 使用模型进行预测\n",
        "\n",
        "这个例子展示了如何将深度学习应用于土木工程中的实际问题。通过这种方法，我们可以建立一个模型来自动判断混凝土裂缝是否需要修复，这对于结构健康监测和维护决策都有重要意义。\n",
        "\n",
        "在实际应用中，我们可能需要考虑更多的因素(如裂缝位置、结构重要性等),这时可以扩展到多特征分类或更复杂的非线性模型。同时，收集高质量的实际数据对于模型的准确性至关重要。"
      ]
    }
  ],
  "metadata": {
    "kernelspec": {
      "display_name": "dl",
      "language": "python",
      "name": "python3"
    },
    "language_info": {
      "codemirror_mode": {
        "name": "ipython",
        "version": 3
      },
      "file_extension": ".py",
      "mimetype": "text/x-python",
      "name": "python",
      "nbconvert_exporter": "python",
      "pygments_lexer": "ipython3",
      "version": "3.9.12"
    }
  },
  "nbformat": 4,
  "nbformat_minor": 2
}
