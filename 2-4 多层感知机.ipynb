{
  "cells": [
    {
      "cell_type": "markdown",
      "metadata": {},
      "source": [
        "# 多层感知机实践：预测混凝土抗压强度\n",
        "\n",
        "在这个实践中，我们将学习如何使用PyTorch实现多层感知机(MLP)模型。我们将以预测混凝土抗压强度为例，这是土木工程中的一个重要问题。\n",
        "\n",
        "## 1. 导入必要的库"
      ]
    },
    {
      "cell_type": "code",
      "execution_count": null,
      "metadata": {},
      "outputs": [],
      "source": [
        "import torch\n",
        "import torch.nn as nn\n",
        "import torch.optim as optim\n",
        "from torch.utils.data import Dataset, DataLoader\n",
        "import numpy as np\n",
        "import pandas as pd\n",
        "import matplotlib.pyplot as plt\n",
        "from sklearn.model_selection import train_test_split\n",
        "from sklearn.preprocessing import StandardScaler"
      ]
    },
    {
      "cell_type": "markdown",
      "metadata": {},
      "source": [
        "## 2. 准备数据\n",
        "\n",
        "我们将使用一个包含多个影响因素的混凝土强度数据集。这个数据集包含以下特征:\n",
        "- 水泥用量 (kg/m^3)\n",
        "- 水用量 (kg/m^3)\n",
        "- 粗骨料用量 (kg/m^3)\n",
        "- 细骨料用量 (kg/m^3)\n",
        "- 外加剂用量 (kg/m^3)\n",
        "- 龄期 (天)\n",
        "\n",
        "目标变量是28天抗压强度 (MPa)。"
      ]
    },
    {
      "cell_type": "code",
      "execution_count": null,
      "metadata": {},
      "outputs": [],
      "source": [
        "# 生成模拟数据\n",
        "np.random.seed(42)\n",
        "n_samples = 1000\n",
        "\n",
        "cement = np.random.uniform(200, 400, n_samples)\n",
        "water = np.random.uniform(150, 200, n_samples)\n",
        "coarse_aggregate = np.random.uniform(700, 1200, n_samples)\n",
        "fine_aggregate = np.random.uniform(600, 1000, n_samples)\n",
        "admixture = np.random.uniform(5, 15, n_samples)\n",
        "age = np.random.randint(7, 91, n_samples)\n",
        "\n",
        "# 模拟一个非线性关系\n",
        "strength = (\n",
        "    0.05 * cement\n",
        "    - 0.1 * water\n",
        "    + 0.01 * coarse_aggregate\n",
        "    + 0.02 * fine_aggregate\n",
        "    + 0.5 * admixture\n",
        "    + 0.1 * np.log(age)\n",
        "    + np.random.normal(0, 5, n_samples)\n",
        ")\n",
        "\n",
        "# 创建DataFrame\n",
        "data = pd.DataFrame({\n",
        "    '水泥': cement,\n",
        "    '水': water,\n",
        "    '粗骨料': coarse_aggregate,\n",
        "    '细骨料': fine_aggregate,\n",
        "    '外加剂': admixture,\n",
        "    '龄期': age,\n",
        "    '强度': strength\n",
        "})\n",
        "\n",
        "print(data.head())\n",
        "print(\"\\n数据集形状:\", data.shape)"
      ]
    },
    {
      "cell_type": "markdown",
      "metadata": {},
      "source": [
        "## 3. 数据预处理"
      ]
    },
    {
      "cell_type": "code",
      "execution_count": null,
      "metadata": {},
      "outputs": [],
      "source": [
        "# 分离特征和目标\n",
        "X = data.drop('强度', axis=1)\n",
        "y = data['强度']\n",
        "\n",
        "# 划分训练集和测试集\n",
        "X_train, X_test, y_train, y_test = train_test_split(X, y, test_size=0.2, random_state=42)\n",
        "\n",
        "# 标准化特征\n",
        "scaler = StandardScaler()\n",
        "X_train_scaled = scaler.fit_transform(X_train)\n",
        "X_test_scaled = scaler.transform(X_test)\n",
        "\n",
        "# 转换为PyTorch张量\n",
        "X_train_tensor = torch.FloatTensor(X_train_scaled)\n",
        "y_train_tensor = torch.FloatTensor(y_train.values).reshape(-1, 1)\n",
        "X_test_tensor = torch.FloatTensor(X_test_scaled)\n",
        "y_test_tensor = torch.FloatTensor(y_test.values).reshape(-1, 1)"
      ]
    },
    {
      "cell_type": "markdown",
      "metadata": {},
      "source": [
        "## 4. 定义数据集和数据加载器"
      ]
    },
    {
      "cell_type": "code",
      "execution_count": null,
      "metadata": {},
      "outputs": [],
      "source": [
        "class ConcreteDataset(Dataset):\n",
        "    def __init__(self, X, y):\n",
        "        self.X = X\n",
        "        self.y = y\n",
        "    \n",
        "    def __len__(self):\n",
        "        return len(self.y)\n",
        "    \n",
        "    def __getitem__(self, idx):\n",
        "        return self.X[idx], self.y[idx]\n",
        "\n",
        "train_dataset = ConcreteDataset(X_train_tensor, y_train_tensor)\n",
        "test_dataset = ConcreteDataset(X_test_tensor, y_test_tensor)\n",
        "\n",
        "train_loader = DataLoader(train_dataset, batch_size=32, shuffle=True)\n",
        "test_loader = DataLoader(test_dataset, batch_size=32, shuffle=False)"
      ]
    },
    {
      "cell_type": "markdown",
      "metadata": {},
      "source": [
        "## 5. 定义多层感知机模型\n",
        "\n",
        "我们将创建一个三层的多层感知机模型。"
      ]
    },
    {
      "cell_type": "code",
      "execution_count": null,
      "metadata": {},
      "outputs": [],
      "source": [
        "class MLP(nn.Module):\n",
        "    def __init__(self, input_dim):\n",
        "        super(MLP, self).__init__()\n",
        "        self.layer1 = nn.Linear(input_dim, 64)\n",
        "        self.layer2 = nn.Linear(64, 32)\n",
        "        self.layer3 = nn.Linear(32, 1)\n",
        "        self.relu = nn.ReLU()\n",
        "    \n",
        "    def forward(self, x):\n",
        "        x = self.relu(self.layer1(x))\n",
        "        x = self.relu(self.layer2(x))\n",
        "        x = self.layer3(x)\n",
        "        return x\n",
        "\n",
        "# 实例化模型\n",
        "model = MLP(input_dim=X_train.shape[1])\n",
        "print(model)"
      ]
    },
    {
      "cell_type": "markdown",
      "metadata": {},
      "source": [
        "## 6. 定义损失函数和优化器"
      ]
    },
    {
      "cell_type": "code",
      "execution_count": null,
      "metadata": {},
      "outputs": [],
      "source": [
        "criterion = nn.MSELoss()\n",
        "optimizer = optim.Adam(model.parameters(), lr=0.001)"
      ]
    },
    {
      "cell_type": "markdown",
      "metadata": {},
      "source": [
        "## 7. 训练模型"
      ]
    },
    {
      "cell_type": "code",
      "execution_count": null,
      "metadata": {},
      "outputs": [],
      "source": [
        "num_epochs = 100\n",
        "train_losses = []\n",
        "test_losses = []\n",
        "\n",
        "for epoch in range(num_epochs):\n",
        "    model.train()\n",
        "    train_loss = 0\n",
        "    for X_batch, y_batch in train_loader:\n",
        "        optimizer.zero_grad()\n",
        "        outputs = model(X_batch)\n",
        "        loss = criterion(outputs, y_batch)\n",
        "        loss.backward()\n",
        "        optimizer.step()\n",
        "        train_loss += loss.item()\n",
        "    \n",
        "    train_loss /= len(train_loader)\n",
        "    train_losses.append(train_loss)\n",
        "    \n",
        "    model.eval()\n",
        "    test_loss = 0\n",
        "    with torch.no_grad():\n",
        "        for X_batch, y_batch in test_loader:\n",
        "            outputs = model(X_batch)\n",
        "            loss = criterion(outputs, y_batch)\n",
        "            test_loss += loss.item()\n",
        "    \n",
        "    test_loss /= len(test_loader)\n",
        "    test_losses.append(test_loss)\n",
        "    \n",
        "    if (epoch + 1) % 10 == 0:\n",
        "        print(f'Epoch [{epoch+1}/{num_epochs}], Train Loss: {train_loss:.4f}, Test Loss: {test_loss:.4f}')\n",
        "\n",
        "# 绘制损失曲线\n",
        "plt.plot(train_losses, label='Train Loss')\n",
        "plt.plot(test_losses, label='Test Loss')\n",
        "plt.xlabel('Epoch')\n",
        "plt.ylabel('Loss')\n",
        "plt.title('Training and Test Loss')\n",
        "plt.legend()\n",
        "plt.show()"
      ]
    },
    {
      "cell_type": "markdown",
      "metadata": {},
      "source": [
        "## 8. 评估模型"
      ]
    },
    {
      "cell_type": "code",
      "execution_count": null,
      "metadata": {},
      "outputs": [],
      "source": [
        "model.eval()\n",
        "predictions = []\n",
        "actual = []\n",
        "\n",
        "with torch.no_grad():\n",
        "    for X_batch, y_batch in test_loader:\n",
        "        outputs = model(X_batch)\n",
        "        predictions.extend(outputs.numpy().flatten())\n",
        "        actual.extend(y_batch.numpy().flatten())\n",
        "\n",
        "predictions = np.array(predictions)\n",
        "actual = np.array(actual)\n",
        "\n",
        "# 计算均方根误差\n",
        "mse = np.mean((predictions - actual) ** 2)\n",
        "rmse = np.sqrt(mse)\n",
        "print(f'Root Mean Squared Error: {rmse:.2f} MPa')\n",
        "\n",
        "# 绘制预测值与实际值的散点图\n",
        "plt.figure(figsize=(10, 6))\n",
        "plt.scatter(actual, predictions, alpha=0.5)\n",
        "plt.plot([actual.min(), actual.max()], [actual.min(), actual.max()], 'r--', lw=2)\n",
        "plt.xlabel('actual strength (MPa)')\n",
        "plt.ylabel('predicted strength (MPa)')\n",
        "plt.title('Actual vs. Predicted Strength')\n",
        "plt.legend(['Pridiction & Actual', 'Perfect Prediction'])\n",
        "plt.show()"
      ]
    },
    {
      "cell_type": "markdown",
      "metadata": {},
      "source": [
        "## 9. 使用模型进行预测"
      ]
    },
    {
      "cell_type": "code",
      "execution_count": null,
      "metadata": {},
      "outputs": [],
      "source": [
        "# 假设我们要预测一个新的混凝土配比的强度\n",
        "new_concrete = np.array([\n",
        "    [350, 180, 1000, 800, 10, 28]  # 水泥, 水, 粗骨料, 细骨料, 外加剂, 龄期\n",
        "])\n",
        "\n",
        "# 标准化新数据\n",
        "new_concrete_scaled = scaler.transform(new_concrete)\n",
        "new_concrete_tensor = torch.FloatTensor(new_concrete_scaled)\n",
        "\n",
        "# 预测\n",
        "model.eval()\n",
        "with torch.no_grad():\n",
        "    prediction = model(new_concrete_tensor)\n",
        "\n",
        "print(f'预测的混凝土强度: {prediction.item():.2f} MPa')\n",
        "\n",
        "# 解释预测结果\n",
        "print(\"\\n解释:\")\n",
        "print(\"这个预测结果是基于给定的混凝土配比和龄期得出的。\")\n",
        "print(\"在实际应用中,还需要考虑其他因素,如养护条件、环境温度等。\")\n",
        "print(\"这个模型可以帮助工程师快速评估混凝土配比的强度,并进行优化。\")"
      ]
    },
    {
      "cell_type": "markdown",
      "metadata": {},
      "source": [
        "## 10. 总结\n",
        "\n",
        "在这个实践中，我们学习了如何使用PyTorch实现多层感知机(MLP)模型。我们以预测混凝土抗压强度为例，这是土木工程中的一个重要问题。\n",
        "主要步骤包括:\n",
        "- 准备数据\n",
        "- 数据预处理\n",
        "- 定义数据集和数据加载器\n",
        "- 定义多层感知机模型\n",
        "- 定义损失函数和优化器\n",
        "- 训练模型\n",
        "- 评估模型\n",
        "- 使用模型进行预测\n",
        "\n",
        "与线性回归模型相比，多层感知机模型可以更好地拟合非线性关系。因此，在处理复杂问题时，多层感知机模型通常比线性回归模型更有效。"
      ]
    }
  ],
  "metadata": {
    "kernelspec": {
      "display_name": "Python 3",
      "language": "python",
      "name": "python3"
    },
    "language_info": {
      "codemirror_mode": {
        "name": "ipython",
        "version": 3
      },
      "file_extension": ".py",
      "mimetype": "text/x-python",
      "name": "python",
      "nbconvert_exporter": "python",
      "pygments_lexer": "ipython3",
      "version": "3.9.12"
    }
  },
  "nbformat": 4,
  "nbformat_minor": 4
}
