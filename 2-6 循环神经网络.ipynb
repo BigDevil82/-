{
  "cells": [
    {
      "cell_type": "markdown",
      "metadata": {},
      "source": [
        "# 循环神经网络(RNN)实践：预测混凝土强度随时间的变化\n",
        "\n",
        "在这个实操练习中，我们将使用循环神经网络(RNN)来预测混凝土强度随时间的变化。这是一个时间序列预测问题，我们的模型将学习混凝土强度随时间变化的模式。\n",
        "\n",
        "## 目标\n",
        "1. 理解RNN的基本结构和工作原理\n",
        "2. 学习如何使用Python和PyTorch构建简单的RNN模型\n",
        "3. 实践时间序列预测任务\n",
        "4. 了解模型训练和评估的过程\n",
        "\n",
        "让我们开始吧！"
      ]
    },
    {
      "cell_type": "markdown",
      "metadata": {},
      "source": [
        "## 1. 导入必要的库"
      ]
    },
    {
      "cell_type": "code",
      "execution_count": null,
      "metadata": {},
      "outputs": [],
      "source": [
        "import numpy as np\n",
        "import matplotlib.pyplot as plt\n",
        "import torch\n",
        "import torch.nn as nn\n",
        "from torch.utils.data import DataLoader, TensorDataset\n",
        "\n",
        "print(\"PyTorch version:\", torch.version)"
      ]
    },
    {
      "cell_type": "markdown",
      "metadata": {},
      "source": [
        "## 2. 准备数据\n",
        "\n",
        "为了简化演示，我们将生成一个模拟的混凝土强度时间序列数据集。在实际应用中，你需要使用真实的实验数据。"
      ]
    },
    {
      "cell_type": "code",
      "execution_count": null,
      "metadata": {},
      "outputs": [],
      "source": [
        "# 生成模拟数据\n",
        "np.random.seed(42)\n",
        "time = np.arange(0, 365, 1)\n",
        "strength = 20 + 10 * np.log(time + 1) + np.random.normal(0, 0.5, 365)\n",
        "\n",
        "# plot strength with time\n",
        "plt.figure(figsize=(10, 6))\n",
        "plt.plot(time, strength)\n",
        "plt.xlabel(\"Time\")\n",
        "plt.ylabel(\"Strength\")\n",
        "plt.title(\"Strength vs Time\")\n",
        "plt.show()\n",
        "\n",
        "# 划分训练集和测试集\n",
        "train_size = int(0.8 * len(time))\n",
        "train_data = strength[:train_size]\n",
        "test_data = strength[train_size:]\n",
        "\n",
        "# 创建序列\n",
        "def create_sequences(data, seq_length):\n",
        "    sequences = []\n",
        "    targets = []\n",
        "    for i in range(len(data) - seq_length):\n",
        "        seq = data[i:i+seq_length]\n",
        "        target = data[i+seq_length]\n",
        "        sequences.append(seq)\n",
        "        targets.append(target)\n",
        "    return np.array(sequences), np.array(targets)\n",
        "\n",
        "seq_length = 7  # 使用过去7天的数据预测下一天\n",
        "X_train, y_train = create_sequences(train_data, seq_length)\n",
        "X_test, y_test = create_sequences(test_data, seq_length)\n",
        "\n",
        "# 转换为PyTorch张量\n",
        "X_train = torch.FloatTensor(X_train).unsqueeze(2)\n",
        "y_train = torch.FloatTensor(y_train)\n",
        "X_test = torch.FloatTensor(X_test).unsqueeze(2)\n",
        "y_test = torch.FloatTensor(y_test)\n",
        "\n",
        "# 创建DataLoader\n",
        "train_dataset = TensorDataset(X_train, y_train)\n",
        "test_dataset = TensorDataset(X_test, y_test)\n",
        "train_loader = DataLoader(train_dataset, batch_size=32, shuffle=True)\n",
        "test_loader = DataLoader(test_dataset, batch_size=32, shuffle=False)\n",
        "\n",
        "print(\"训练集形状:\", X_train.shape)\n",
        "print(\"测试集形状:\", X_test.shape)"
      ]
    },
    {
      "cell_type": "markdown",
      "metadata": {},
      "source": [
        "## 3. 构建RNN模型\n",
        "\n",
        "现在，我们将构建一个简单的RNN模型。这个模型包含一个LSTM层和一个全连接层。"
      ]
    },
    {
      "cell_type": "code",
      "execution_count": null,
      "metadata": {},
      "outputs": [],
      "source": [
        "class ConcreteStrengthRNN(nn.Module):\n",
        "    def __init__(self, input_size, hidden_size, output_size):\n",
        "        super(ConcreteStrengthRNN, self).__init__()\n",
        "        self.hidden_size = hidden_size\n",
        "        self.lstm = nn.LSTM(input_size, hidden_size, batch_first=True)\n",
        "        self.fc = nn.Linear(hidden_size, output_size)\n",
        "    \n",
        "    def forward(self, x):\n",
        "        _, (hn, _) = self.lstm(x)\n",
        "        out = self.fc(hn[-1])\n",
        "        return out\n",
        "\n",
        "model = ConcreteStrengthRNN(input_size=1, hidden_size=64, output_size=1)\n",
        "print(model)"
      ]
    },
    {
      "cell_type": "markdown",
      "metadata": {},
      "source": [
        "## 4. 训练模型\n",
        "\n",
        "现在我们开始训练模型。"
      ]
    },
    {
      "cell_type": "code",
      "execution_count": null,
      "metadata": {},
      "outputs": [],
      "source": [
        "criterion = nn.MSELoss()\n",
        "optimizer = torch.optim.Adam(model.parameters(), lr=0.005)\n",
        "\n",
        "# config learning rate scheduler\n",
        "# first 200 epochs: lr = 0.001\n",
        "# next 200 epochs: lr = 0.0001\n",
        "scheduler = torch.optim.lr_scheduler.MultiStepLR(optimizer, milestones=[400, 500], gamma=0.1)\n",
        "\n",
        "num_epochs = 500\n",
        "device = torch.device(\"cuda\" if torch.cuda.is_available() else \"cpu\")\n",
        "model.to(device)\n",
        "\n",
        "losses = []\n",
        "for epoch in range(num_epochs):\n",
        "    model.train()\n",
        "    train_loss = 0\n",
        "    for batch_X, batch_y in train_loader:\n",
        "        batch_X, batch_y = batch_X.to(device), batch_y.to(device)\n",
        "\n",
        "        outputs = model(batch_X)\n",
        "        loss = criterion(outputs.squeeze(), batch_y)\n",
        "\n",
        "        optimizer.zero_grad()\n",
        "        loss.backward()\n",
        "        optimizer.step()\n",
        "\n",
        "        train_loss += loss.item()\n",
        "\n",
        "    losses.append(train_loss / len(train_loader))\n",
        "\n",
        "    scheduler.step()\n",
        "    if (epoch + 1) % 10 == 0:\n",
        "        print(f'Epoch [{epoch+1}/{num_epochs}], Loss: {loss.item():.4f}')\n",
        "\n",
        "\n",
        "# 绘制损失曲线\n",
        "plt.plot(losses)\n",
        "plt.xlabel(\"Epoch\")\n",
        "plt.ylabel(\"Loss\")\n",
        "plt.title(\"Training Loss\")\n",
        "plt.show()"
      ]
    },
    {
      "cell_type": "markdown",
      "metadata": {},
      "source": [
        "## 5. 评估模型性能\n",
        "\n",
        "让我们在测试集上评估模型的性能。"
      ]
    },
    {
      "cell_type": "code",
      "execution_count": null,
      "metadata": {},
      "outputs": [],
      "source": [
        "model.eval()\n",
        "predictions = []\n",
        "actuals = []\n",
        "\n",
        "with torch.no_grad():\n",
        "    for batch_X, batch_y in test_loader:\n",
        "        batch_X = batch_X.to(device)\n",
        "        outputs = model(batch_X)\n",
        "        predictions.extend(outputs.cpu().numpy().flatten())\n",
        "        actuals.extend(batch_y.numpy().flatten())\n",
        "\n",
        "predictions = np.array(predictions)\n",
        "actuals = np.array(actuals)\n",
        "\n",
        "mse = np.mean((predictions - actuals) ** 2)\n",
        "print(f'测试集均方误差: {mse:.4f}')\n",
        "\n",
        "plt.figure(figsize=(12, 6))\n",
        "plt.plot(actuals, label='Actual')\n",
        "plt.plot(predictions, label='Predicted')\n",
        "plt.ylim(50, 100)\n",
        "plt.legend()\n",
        "plt.title('Concrete Strength Prediction vs Actual')\n",
        "plt.xlabel('Time (days)')\n",
        "plt.ylabel('Concrete Strength (MPa)')\n",
        "plt.show()"
      ]
    },
    {
      "cell_type": "markdown",
      "metadata": {},
      "source": [
        "## 6. 使用模型进行预测\n",
        "\n",
        "最后，让我们使用训练好的模型对未来7天的混凝土强度进行预测。"
      ]
    },
    {
      "cell_type": "code",
      "execution_count": null,
      "metadata": {},
      "outputs": [],
      "source": [
        "def predict_next_7_days(model, last_week_data):\n",
        "    model.eval()\n",
        "    predictions = []\n",
        "    current_input = last_week_data.clone()\n",
        "    \n",
        "    for _ in range(7):\n",
        "        with torch.no_grad():\n",
        "            next_day_pred = model(current_input.unsqueeze(0).to(device))\n",
        "        predictions.append(next_day_pred.item())\n",
        "        current_input = torch.cat((current_input[1:], next_day_pred.cpu()))\n",
        "    \n",
        "    return predictions\n",
        "\n",
        "last_week_data = X_test[-1]\n",
        "# print(last_week_data.shape)\n",
        "next_7_days_pred = predict_next_7_days(model, last_week_data)\n",
        "\n",
        "plt.figure(figsize=(12, 6))\n",
        "plt.plot(test_data, linestyle='--', label='Actual')\n",
        "plt.plot(range(len(test_data), len(test_data) + 7), next_7_days_pred, marker='o', label='Predicted')\n",
        "# plt.ylim(74.2, 74.8)\n",
        "plt.title('Concrete Strength Prediction for Next 7 Days')\n",
        "plt.xlabel('Days')\n",
        "plt.ylabel('Predicted Concrete Strength (MPa)')\n",
        "plt.legend(loc='upper left')\n",
        "plt.show()\n",
        "\n",
        "print(\"未来7天的混凝土强度预测值：\")\n",
        "for i, pred in enumerate(next_7_days_pred, 1):\n",
        "    print(f\"第{i}天: {pred:.2f} MPa\")"
      ]
    },
    {
      "cell_type": "markdown",
      "metadata": {},
      "source": [
        "## 总结\n",
        "\n",
        "在这个实操练习中，我们构建了一个简单的RNN模型来预测混凝土强度随时间的变化。我们学习了如何：\n",
        "\n",
        "1. 准备时间序列数据\n",
        "2. 构建RNN模型\n",
        "3. 训练模型\n",
        "4. 评估模型性能\n",
        "5. 使用模型进行预测\n",
        "\n",
        "这个示例展示了RNN在土木工程中的一个实际应用。通过这种方法，我们可以预测混凝土强度随时间的变化，这对于工程项目的规划和质量控制非常有帮助。\n",
        "\n",
        "在实际应用中，你需要使用真实的实验数据，可能还需要考虑更多的因素（如温度、湿度等）来提高预测的准确性。此外，你可以尝试使用更复杂的模型架构（如LSTM或GRU）或增加更多的特征来进一步提高模型的性能。"
      ]
    }
  ],
  "metadata": {
    "kernelspec": {
      "display_name": "Python 3",
      "language": "python",
      "name": "python3"
    },
    "language_info": {
      "codemirror_mode": {
        "name": "ipython",
        "version": 3
      },
      "file_extension": ".py",
      "mimetype": "text/x-python",
      "name": "python",
      "nbconvert_exporter": "python",
      "pygments_lexer": "ipython3",
      "version": "3.9.12"
    }
  },
  "nbformat": 4,
  "nbformat_minor": 4
}
