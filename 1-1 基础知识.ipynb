{
  "cells": [
    {
      "cell_type": "markdown",
      "metadata": {},
      "source": [
        "# Python和PyTorch基础"
      ]
    },
    {
      "cell_type": "code",
      "execution_count": null,
      "metadata": {},
      "outputs": [],
      "source": [
        "# 导入所需的库\n",
        "import numpy as np\n",
        "import torch\n",
        "import matplotlib.pyplot as plt"
      ]
    },
    {
      "cell_type": "markdown",
      "metadata": {},
      "source": [
        "## 1. Python基础\n",
        "\n",
        "Python是一种简单易学、功能强大的编程语言，在科学计算和机器学习领域广泛使用。让我们从一些基本概念开始。\n",
        "\n",
        "### 1.1 变量和数据类型"
      ]
    },
    {
      "cell_type": "code",
      "execution_count": null,
      "metadata": {},
      "outputs": [],
      "source": [
        "# 整数\n",
        "a = 10\n",
        "print(f\"a是一个整数: {a}\")\n",
        "\n",
        "# 浮点数\n",
        "b = 3.14\n",
        "print(f\"b是一个浮点数: {b}\")\n",
        "\n",
        "# 字符串\n",
        "c = \"Hello, World!\"\n",
        "print(f\"c是一个字符串: {c}\")\n",
        "\n",
        "# 布尔值\n",
        "d = True\n",
        "print(f\"d是一个布尔值: {d}\")"
      ]
    },
    {
      "cell_type": "markdown",
      "metadata": {},
      "source": [
        "### 1.2 列表和字典\n",
        "\n",
        "列表和字典是Python中常用的数据结构。"
      ]
    },
    {
      "cell_type": "code",
      "execution_count": null,
      "metadata": {},
      "outputs": [],
      "source": [
        "# 列表\n",
        "numbers = [1, 2, 3, 4, 5]\n",
        "print(f\"numbers是一个列表: {numbers}\")\n",
        "print(f\"numbers的第一个元素是: {numbers[0]}\")\n",
        "\n",
        "# 字典\n",
        "student = {\"name\": \"张三\", \"age\": 25, \"major\": \"土木工程\"}\n",
        "print(f\"student是一个字典: {student}\")\n",
        "print(f\"student的姓名是: {student['name']}\")"
      ]
    },
    {
      "cell_type": "markdown",
      "metadata": {},
      "source": [
        "### 1.3 条件语句和循环"
      ]
    },
    {
      "cell_type": "code",
      "execution_count": null,
      "metadata": {},
      "outputs": [],
      "source": [
        "# 条件语句\n",
        "x = 10\n",
        "if x > 0:\n",
        "    print(\"x是正数\")\n",
        "elif x < 0:\n",
        "    print(\"x是负数\")\n",
        "else:\n",
        "    print(\"x是零\")\n",
        "\n",
        "# for循环\n",
        "for i in range(5):\n",
        "    print(f\"这是第 {i+1} 次循环\")\n",
        "\n",
        "# while循环\n",
        "count = 0\n",
        "while count < 3:\n",
        "    print(f\"count的值是: {count}\")\n",
        "    count += 1"
      ]
    },
    {
      "cell_type": "markdown",
      "metadata": {},
      "source": [
        "### 1.4 函数\n",
        "\n",
        "函数是可重用的代码块，可以帮助我们组织和简化代码。"
      ]
    },
    {
      "cell_type": "code",
      "execution_count": null,
      "metadata": {},
      "outputs": [],
      "source": [
        "def greet(name):\n",
        "    return f\"你好, {name}!\"\n",
        "\n",
        "\n",
        "message = greet(\"张三\")\n",
        "print(message)\n",
        "\n",
        "\n",
        "def square(x):\n",
        "    return x**2\n",
        "\n",
        "\n",
        "result = square(5)\n",
        "print(f\"5的平方是: {result}\")"
      ]
    },
    {
      "cell_type": "markdown",
      "metadata": {},
      "source": [
        "## 2. NumPy简介\n",
        "\n",
        "NumPy是Python中用于科学计算的基础库，提供了高性能的多维数组对象和相关工具。\n",
        "\n",
        "### 2.1 创建数组"
      ]
    },
    {
      "cell_type": "code",
      "execution_count": null,
      "metadata": {},
      "outputs": [],
      "source": [
        "# 创建一维数组\n",
        "arr1 = np.array([1, 2, 3, 4, 5])\n",
        "print(\"一维数组:\", arr1)\n",
        "\n",
        "# 创建二维数组\n",
        "arr2 = np.array([[1, 2, 3], [4, 5, 6]])\n",
        "print(\"二维数组:\\n\", arr2)\n",
        "\n",
        "# 创建全零数组\n",
        "zeros = np.zeros((3, 3))\n",
        "print(\"全零数组:\\n\", zeros)\n",
        "\n",
        "# 创建全一数组\n",
        "ones = np.ones((2, 2))\n",
        "print(\"全一数组:\\n\", ones)"
      ]
    },
    {
      "cell_type": "markdown",
      "metadata": {},
      "source": [
        "### 2.2 基本操作"
      ]
    },
    {
      "cell_type": "code",
      "execution_count": null,
      "metadata": {},
      "outputs": [],
      "source": [
        "# 数组运算\n",
        "a = np.array([1, 2, 3])\n",
        "b = np.array([4, 5, 6])\n",
        "print(\"a + b =\", a + b)\n",
        "print(\"a * b =\", a * b)\n",
        "\n",
        "# 数组切片\n",
        "arr = np.array([0, 1, 2, 3, 4, 5])\n",
        "print(\"arr[2:5] =\", arr[2:5])\n",
        "\n",
        "# 数组形状\n",
        "print(\"arr2的形状:\", arr2.shape)\n",
        "\n",
        "# 数组统计\n",
        "print(\"arr2的平均值:\", np.mean(arr2))\n",
        "print(\"arr2的最大值:\", np.max(arr2))"
      ]
    },
    {
      "cell_type": "markdown",
      "metadata": {},
      "source": [
        "## 3. PyTorch基础\n",
        "\n",
        "PyTorch是一个开源的机器学习库，广泛用于深度学习研究和应用。\n",
        "\n",
        "### 3.1 张量(Tensor)\n",
        "\n",
        "张量是PyTorch中的基本数据结构，类似于NumPy的数组。"
      ]
    },
    {
      "cell_type": "code",
      "execution_count": null,
      "metadata": {},
      "outputs": [],
      "source": [
        "# 创建张量\n",
        "t1 = torch.tensor([1, 2, 3])\n",
        "print(\"一维张量:\", t1)\n",
        "\n",
        "t2 = torch.tensor([[1, 2], [3, 4]])\n",
        "print(\"二维张量:\\n\", t2)\n",
        "\n",
        "# 张量运算\n",
        "a = torch.tensor([1, 2, 3])\n",
        "b = torch.tensor([4, 5, 6])\n",
        "print(\"a + b =\", a + b)\n",
        "print(\"a * b =\", a * b)"
      ]
    },
    {
      "cell_type": "markdown",
      "metadata": {},
      "source": [
        "### 3.2 自动求导(Autograd)\n",
        "\n",
        "PyTorch的一个关键特性是自动求导，它能够自动计算梯度，这在训练神经网络时非常有用。"
      ]
    },
    {
      "cell_type": "code",
      "execution_count": null,
      "metadata": {},
      "outputs": [],
      "source": [
        "x = torch.tensor(2.0, requires_grad=True)\n",
        "y = x**2\n",
        "y.backward()\n",
        "print(\"dy/dx =\", x.grad)"
      ]
    },
    {
      "cell_type": "markdown",
      "metadata": {},
      "source": [
        "### 3.3 简单的神经网络示例\n",
        "\n",
        "让我们创建一个简单的神经网络来预测房价。假设房价只与房屋面积有关。"
      ]
    },
    {
      "cell_type": "code",
      "execution_count": null,
      "metadata": {},
      "outputs": [],
      "source": [
        "# 准备数据\n",
        "X = torch.tensor([[50.0], [60.0], [70.0], [80.0], [90.0]], dtype=torch.float32)\n",
        "y = torch.tensor([[250], [300], [350], [400], [450]], dtype=torch.float32)\n",
        "# 增加一点随机噪声\n",
        "y += 10 * torch.randn(y.size())\n",
        "\n",
        "# 定义模型\n",
        "class SimpleModel(torch.nn.Module):\n",
        "    def __init__(self):\n",
        "        super(SimpleModel, self).__init__()\n",
        "        self.linear = torch.nn.Linear(1, 1)\n",
        "\n",
        "    def forward(self, x):\n",
        "        return self.linear(x)\n",
        "\n",
        "\n",
        "model = SimpleModel()\n",
        "\n",
        "# 定义损失函数和优化器\n",
        "criterion = torch.nn.MSELoss()\n",
        "optimizer = torch.optim.SGD(model.parameters(), lr=1e-5)\n",
        "\n",
        "# 训练模型\n",
        "losses = []\n",
        "for epoch in range(100):\n",
        "    # 前向传播\n",
        "    y_pred = model(X)\n",
        "    loss = criterion(y_pred, y)\n",
        "    losses.append(loss.item())\n",
        "\n",
        "    # 反向传播和优化\n",
        "    optimizer.zero_grad()\n",
        "    loss.backward()\n",
        "    optimizer.step()\n",
        "\n",
        "    if (epoch + 1) % 10 == 0:\n",
        "        print(f\"Epoch [{epoch+1}/100], Loss: {loss.item():.4f}\")\n",
        "\n",
        "# 使用模型进行预测\n",
        "new_house_area = torch.tensor([[75.0]], dtype=torch.float32)\n",
        "predicted_price = model(new_house_area)\n",
        "print(f\"面积为75平方米的房子预测价格: {predicted_price.item():.2f}万元\")\n",
        "\n",
        "# 可视化损失值\n",
        "plt.plot(losses)\n",
        "plt.xlabel(\"Epoch\")\n",
        "plt.ylabel(\"Loss\")\n",
        "plt.title(\"Loss Curve\")\n",
        "\n",
        "# 可视化结果\n",
        "plt.figure()\n",
        "plt.scatter(X.numpy(), y.numpy(), label=\"real data\")\n",
        "plt.plot(X.numpy(), model(X).detach().numpy(), color=\"r\", label=\"predicted data\")\n",
        "plt.xlabel(\"$area(m^2)$\")\n",
        "plt.ylabel(\"price\")\n",
        "plt.legend()\n",
        "plt.title(\"House Price Prediction\")\n",
        "plt.show()"
      ]
    }
  ],
  "metadata": {
    "kernelspec": {
      "display_name": "test",
      "language": "python",
      "name": "python3"
    },
    "language_info": {
      "codemirror_mode": {
        "name": "ipython",
        "version": 3
      },
      "file_extension": ".py",
      "mimetype": "text/x-python",
      "name": "python",
      "nbconvert_exporter": "python",
      "pygments_lexer": "ipython3",
      "version": "3.9.12"
    }
  },
  "nbformat": 4,
  "nbformat_minor": 2
}
